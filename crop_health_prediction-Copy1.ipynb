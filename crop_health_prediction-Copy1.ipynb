{
 "cells": [
  {
   "cell_type": "markdown",
   "id": "61f6c80e",
   "metadata": {},
   "source": [
    "# Problem Statement\n",
    "\n",
    "<b><li>Though, many of us don't appreciate much, but a farmer's job is real test of endurance and determination.</li></b>\n",
    "<b><li>Once the seeds are sown, he works days and nights to make sure that he cultivates a good harvest at the end of season.</li></b>\n",
    "\n",
    "<br>\n",
    "\n",
    "<b><li>A good harvest is ensured by several factors such as availability of water, soil fertility, timely use of pesticides and nature.</li></b>\n",
    "<b><li>While a lot of these factors are difficult to control for, the amount and frequency of pesticides is something the farmer can control.</li></b>\n",
    "<b><li>Pesticides are also special, because they protect the crop with the right dosage.</li>\n",
    "<b><li>But, if you add more than required, they may spoil the entire harvest.</li></b>\n",
    "<b><li>A high level of pesticide can deem the crop dead / unsuitable for consumption among many outcomes.</li></b>\n",
    "\n",
    "<br>\n",
    "    \n",
    "<b><li>This data is based on crops harvested by various farmers at the end of harvest season.</li></b>\n",
    "<b><li>To simplify the problem, you can assume that all other factors like variations in farming techniques have been controlled for.</li></b>\n",
    "<b><li>You need to datermine whether the crop would be healthy(alive), damaged by pesticides or damaged by other reasons.</li></b>"
   ]
  },
  {
   "cell_type": "markdown",
   "id": "ac9e2d76",
   "metadata": {},
   "source": [
    "![](images/crop_health.png)"
   ]
  },
  {
   "cell_type": "code",
   "execution_count": null,
   "id": "096c8d40",
   "metadata": {},
   "outputs": [],
   "source": [
    "import warnings\n",
    "import numpy as np\n",
    "import pandas as pd\n",
    "import seaborn as sns\n",
    "import plotly.express as px\n",
    "import scipy.stats as stats\n",
    "import matplotlib.pyplot as plt\n",
    "from scipy.stats import shapiro\n",
    "from scipy.stats import f_oneway\n",
    "import plotly.graph_objects as go\n",
    "from statsmodels.graphics.gofplots import qqplot\n",
    "\n",
    "warnings.filterwarnings('ignore')"
   ]
  },
  {
   "cell_type": "code",
   "execution_count": null,
   "id": "edd3f72f",
   "metadata": {},
   "outputs": [],
   "source": [
    "train_df = pd.read_csv('train.csv')\n",
    "test_df = pd.read_csv('test.csv')"
   ]
  },
  {
   "cell_type": "code",
   "execution_count": null,
   "id": "c18082c2",
   "metadata": {},
   "outputs": [],
   "source": [
    "print(train_df.shape)\n",
    "print(test_df.shape)"
   ]
  },
  {
   "cell_type": "code",
   "execution_count": null,
   "id": "d7a567a2",
   "metadata": {},
   "outputs": [],
   "source": [
    "combined_df = pd.concat([train_df, test_df], axis = 0)\n",
    "print(combined_df.shape)"
   ]
  },
  {
   "cell_type": "code",
   "execution_count": null,
   "id": "2ecebd42",
   "metadata": {},
   "outputs": [],
   "source": [
    "combined_df['ID'].value_counts()"
   ]
  },
  {
   "cell_type": "code",
   "execution_count": null,
   "id": "1247c526",
   "metadata": {},
   "outputs": [],
   "source": [
    "combined_df.head()"
   ]
  },
  {
   "cell_type": "code",
   "execution_count": null,
   "id": "38975635",
   "metadata": {},
   "outputs": [],
   "source": [
    "combined_df.info()"
   ]
  },
  {
   "cell_type": "code",
   "execution_count": null,
   "id": "19aa2f06",
   "metadata": {},
   "outputs": [],
   "source": [
    "combined_df.describe()"
   ]
  },
  {
   "cell_type": "markdown",
   "id": "7cd8dfb6",
   "metadata": {},
   "source": [
    "### Missing Data Visualization"
   ]
  },
  {
   "cell_type": "code",
   "execution_count": null,
   "id": "7f9a3891",
   "metadata": {},
   "outputs": [],
   "source": [
    "combined_df.isnull().sum()"
   ]
  },
  {
   "cell_type": "code",
   "execution_count": null,
   "id": "b94a2a63",
   "metadata": {},
   "outputs": [],
   "source": [
    "sns.heatmap(combined_df.isnull())"
   ]
  },
  {
   "cell_type": "markdown",
   "id": "08963eea",
   "metadata": {},
   "source": [
    "<li>From the given heatmap, we can see that there is missing value in 'Number_Weeks_Used' column.</li>"
   ]
  },
  {
   "cell_type": "markdown",
   "id": "032e2f80",
   "metadata": {},
   "source": [
    "## EDA"
   ]
  },
  {
   "cell_type": "code",
   "execution_count": null,
   "id": "9c2b9a98",
   "metadata": {},
   "outputs": [],
   "source": [
    "def univariate_count(df, col, final_cols):\n",
    "    \n",
    "    df = df[col].value_counts().reset_index()\n",
    "    df.columns = final_cols\n",
    "    return df"
   ]
  },
  {
   "cell_type": "code",
   "execution_count": null,
   "id": "3ccf40b0",
   "metadata": {},
   "outputs": [],
   "source": [
    "def create_piechart(df, val_col, label_col, colors, title, explode):\n",
    "    \n",
    "    plt.figure(figsize = (8,6))\n",
    "    plt.pie(df[val_col], labels = df[label_col], explode = explode,\n",
    "           colors = colors, autopct = \"%.2f\")\n",
    "    plt.legend(loc = \"upper right\", bbox_to_anchor = (1.3, 1))\n",
    "    plt.title(title)\n",
    "    plt.show()"
   ]
  },
  {
   "cell_type": "code",
   "execution_count": null,
   "id": "804bd1ed",
   "metadata": {},
   "outputs": [],
   "source": [
    "def univariate_barplot(df, val_col, label_col, colors, title,\n",
    "                       xlabel_title, ylabel_title):\n",
    "    \n",
    "    plt.figure(figsize = (8, 6))\n",
    "    ax = sns.barplot(x = label_col, y = val_col, data = df, \n",
    "                     palette = colors, label = df[label_col])\n",
    "    plt.legend()\n",
    "    for value in ax.patches:\n",
    "        ax.text(value.get_x(), value.get_height() + 5, value.get_height())\n",
    "    plt.title(title)\n",
    "    plt.xlabel(xlabel_title)\n",
    "    plt.ylabel(ylabel_title)\n",
    "    plt.show()\n",
    "    \n"
   ]
  },
  {
   "cell_type": "code",
   "execution_count": null,
   "id": "9ea79be0",
   "metadata": {},
   "outputs": [],
   "source": [
    "def univariate_numeric_plot(df, col_name, color):\n",
    "    \n",
    "    plt.figure(figsize = (20, 8))\n",
    "    plt.subplot(1,3,1)\n",
    "    sns.histplot(df[col_name], kde = True,\n",
    "                 color = color,\n",
    "                 alpha = 0.2,\n",
    "                line_kws = {'linestyle': 'dashed'})\n",
    "    plt.subplot(1,3,2)\n",
    "    sns.kdeplot(df[col_name])\n",
    "    plt.subplot(1,3,3)\n",
    "    sns.boxplot(y = df[col_name])\n",
    "    if shapiro(combined_df[col_name])[1] > 0.05:\n",
    "        print(\"The data follows a normal distribution\")\n",
    "    else:\n",
    "        print(\"The data does not follow a normal distribution\")\n",
    "    plt.show()\n",
    "    \n",
    "    "
   ]
  },
  {
   "cell_type": "code",
   "execution_count": null,
   "id": "0f944915",
   "metadata": {},
   "outputs": [],
   "source": [
    "def bivariate_count(df, target_col, cause_col):\n",
    "    \n",
    "    bivariate_df = pd.crosstab(df[target_col], df[cause_col]).reset_index()\n",
    "    bivariate_df = bivariate_df.rename_axis(None, axis = 1)\n",
    "    return bivariate_df"
   ]
  },
  {
   "cell_type": "code",
   "execution_count": null,
   "id": "6153c633",
   "metadata": {},
   "outputs": [],
   "source": [
    "def bivariate_vertical_layout(df, target_col, legend_x, legend_y, bar_width, bar_height):\n",
    "    \n",
    "    layout = go.Layout(\n",
    "      legend=dict(\n",
    "          x=legend_x,  \n",
    "          y=legend_y),\n",
    "      showlegend=True,\n",
    "      font=dict(size=14),\n",
    "      width=bar_width,\n",
    "      height=bar_height,\n",
    "      margin=dict(l=0, r=0, b=0, t=30),\n",
    "    )\n",
    "    return layout\n"
   ]
  },
  {
   "cell_type": "code",
   "execution_count": null,
   "id": "a727fd17",
   "metadata": {},
   "outputs": [],
   "source": [
    "def bivariate_horizontal_layout(df, target_col, legend_x, legend_y, bar_width, bar_height):\n",
    "    \n",
    "    layout = go.Layout(\n",
    "      legend=dict(\n",
    "          x=legend_x,  \n",
    "          y=legend_y),\n",
    "      showlegend=True,\n",
    "      font=dict(size=14),\n",
    "      width=bar_width,\n",
    "      height=bar_height,\n",
    "      margin=dict(l=0, r=0, b=0, t=30),\n",
    "    )\n",
    "    return layout"
   ]
  },
  {
   "cell_type": "code",
   "execution_count": null,
   "id": "f527f94e",
   "metadata": {},
   "outputs": [],
   "source": [
    "def create_bivariate_bargraph(df, colors, legend_labels,\n",
    "                              target_col, graph_orientation, bar_width, bar_height,\n",
    "                              legend_x, legend_y, fig_title, \n",
    "                              x_axis_title, y_axis_title):\n",
    "    \n",
    "    barplots = []\n",
    "    columns = [col for col in list(df.columns) if col not in target_col]\n",
    "    target_values = df[target_col]\n",
    "    target_indexes = list(range(len(df)))\n",
    "    if graph_orientation == \"v\":\n",
    "        for i in range(len(columns)):\n",
    "            barplots.append(go.Bar(x = target_values[target_indexes], \n",
    "            y = df[columns[i]], orientation = graph_orientation,\n",
    "            name=legend_labels[i],\n",
    "            text = df[columns[i]], \n",
    "            marker=go.bar.Marker(color=colors[i])))\n",
    "        layout = bivariate_vertical_layout(df, target_col, legend_x, legend_y, bar_width, bar_height)    \n",
    "    else:\n",
    "        for i in range(len(columns)):\n",
    "            barplots.append(go.Bar(x = df[columns[i]], \n",
    "            y = target_values[target_indexes], orientation = graph_orientation,\n",
    "            name=legend_labels[i],\n",
    "            text = df[columns[i]], \n",
    "            marker=go.bar.Marker(color=colors[i])))\n",
    "    layout = bivariate_horizontal_layout(df, target_col, legend_x, legend_y, bar_width, bar_height)\n",
    "    \n",
    "# Make the multi-bar plot\n",
    "    fig = go.Figure(data=barplots, layout=layout)\n",
    "    fig.update_layout(title_text = fig_title)\n",
    "    fig.update_xaxes(title_text=x_axis_title)\n",
    "    fig.update_yaxes(title_text=y_axis_title)\n",
    "    fig.show()"
   ]
  },
  {
   "cell_type": "code",
   "execution_count": null,
   "id": "371510a9",
   "metadata": {},
   "outputs": [],
   "source": [
    "def bivariate_kdeplot(df, col_name, target_col, colors):\n",
    "    \n",
    "    target_values = list(df[target_col].unique())\n",
    "    legends = []\n",
    "    for index in range(len(target_values)):\n",
    "        if type(target_values[index]).__name__ == 'float':\n",
    "            legends.append('test')\n",
    "            effect_col = df.loc[df[target_col].isnull()]\n",
    "            sns.kdeplot(effect_col[col_name],\n",
    "             color = colors[index])\n",
    "        else: \n",
    "            legends.append(target_values[index])\n",
    "            effect_df = df.loc[df[target_col] == target_values[index]]\n",
    "            sns.kdeplot(effect_df[col_name],\n",
    "                         color = colors[index])\n",
    "    plt.legend(legends)\n",
    "    \n",
    "    "
   ]
  },
  {
   "cell_type": "code",
   "execution_count": null,
   "id": "3b1db051",
   "metadata": {},
   "outputs": [],
   "source": [
    "def bivariate_histplot(df, col_name, target_col, colors):\n",
    "    \n",
    "    target_values = list(df[target_col].unique())\n",
    "    legends = []\n",
    "    for index in range(len(target_values)):\n",
    "        if type(target_values[index]).__name__ == 'float':\n",
    "            legends.append('test')\n",
    "            effect_col = df.loc[df[target_col].isnull()]\n",
    "            sns.histplot(effect_col[col_name], kde = True,\n",
    "             color = colors[index],\n",
    "             alpha = 0.2,\n",
    "            line_kws = {'linestyle': 'dashed'})\n",
    "        else: \n",
    "            legends.append(target_values[index])\n",
    "            effect_df = df.loc[df[target_col] == target_values[index]]\n",
    "            sns.histplot(effect_df[col_name], kde = True,\n",
    "                         color = colors[index],\n",
    "                         alpha = 0.2,\n",
    "                        line_kws = {'linestyle': 'dashed'})\n",
    "    plt.legend(legends)\n",
    "    \n",
    "    "
   ]
  },
  {
   "cell_type": "code",
   "execution_count": null,
   "id": "8cb6e1c7",
   "metadata": {},
   "outputs": [],
   "source": [
    "def bivariate_hist_kdeplot(df, col_name, target_col, colors):\n",
    "    \n",
    "    plt.figure(figsize = (16, 8))\n",
    "    plt.subplot(1, 2, 1)\n",
    "    bivariate_histplot(df, col_name, target_col, colors)\n",
    "    plt.subplot(1,2, 2)\n",
    "    bivariate_kdeplot(eda_df, col_name, target_col, colors)\n",
    "    plt.show()\n",
    "    \n",
    "    "
   ]
  },
  {
   "cell_type": "code",
   "execution_count": null,
   "id": "defce298",
   "metadata": {},
   "outputs": [],
   "source": [
    "def chisquare_test(df, cause_col, effect_col):\n",
    "    \n",
    "    cause_effect_df = pd.crosstab(df[effect_col], df[cause_col])\n",
    "    alpha = 0.05\n",
    "    H0 = \"H0: There is no relationship between {} and {}\".format(cause_col, effect_col)\n",
    "    H1 = \"H1: There is a relationship between {} and {}\".format(cause_col, effect_col)\n",
    "    test_stats = stats.chi2_contingency(observed = cause_effect_df)\n",
    "    p_value = test_stats[1]\n",
    "    print(\"P value is {}\".format(p_value))\n",
    "    if p_value <= alpha:\n",
    "        print(H1)\n",
    "    else:\n",
    "        print(H0)"
   ]
  },
  {
   "cell_type": "code",
   "execution_count": null,
   "id": "130e5a72",
   "metadata": {},
   "outputs": [],
   "source": [
    "def fstatistic_test(df, cause_col, effect_col):\n",
    "    \n",
    "    alpha = 0.05\n",
    "    category_group_list = df.groupby(effect_col)[cause_col].apply(list)\n",
    "    H0 = \"H0: There is no relationship or correlation between {} and {}\".format(cause_col, effect_col)\n",
    "    H1 = \"H1: There is a relationship or correlation between {} and {}\".format(cause_col, effect_col)\n",
    "    anova_results = f_oneway(*category_group_list)\n",
    "    p_value = anova_results[1]\n",
    "    print(\"P value is {}\".format(p_value))\n",
    "    if p_value <= alpha:\n",
    "        print(H1)\n",
    "    else:\n",
    "        print(H0)"
   ]
  },
  {
   "cell_type": "markdown",
   "id": "1af6b2f6",
   "metadata": {},
   "source": [
    "### Creating a copy of our dataset for doing EDA"
   ]
  },
  {
   "cell_type": "code",
   "execution_count": null,
   "id": "9ddf23c4",
   "metadata": {},
   "outputs": [],
   "source": [
    "eda_df = combined_df.copy()\n",
    "eda_df.replace({\"Crop_Damage\" : {0: \"Alive\",\n",
    "                                 1: \"Damage Due To Other Causes\",\n",
    "                                 2: \"Damage Due To Pesticides\"},\n",
    "                \n",
    "               \"Crop_Type\" : {0: \"Crop_Type_0\",\n",
    "                              1: \"Crop_Type_1\"},\n",
    "                \n",
    "                \"Soil_Type\" : {0: \"Soil_Type_0\",\n",
    "                               1: \"Soil_Type_1\"},\n",
    "                \n",
    "                \"Pesticide_Use_Category\" : {1: \"Never Used\",\n",
    "                                            2: \"Previously Used\",\n",
    "                                            3: \"Currently Using\"},\n",
    "                \n",
    "                \"Season\" : {1: \"Season_One\",\n",
    "                            2: \"Season_Two\",\n",
    "                            3: \"Season_Three\"}\n",
    "               }, inplace = True)\n"
   ]
  },
  {
   "cell_type": "code",
   "execution_count": null,
   "id": "072dadb3",
   "metadata": {},
   "outputs": [],
   "source": [
    "eda_df = eda_df.reset_index(drop = True)\n",
    "eda_df.head()"
   ]
  },
  {
   "cell_type": "markdown",
   "id": "075d1101",
   "metadata": {},
   "source": [
    "### Visualizing Target Column"
   ]
  },
  {
   "cell_type": "code",
   "execution_count": null,
   "id": "7f40fd27",
   "metadata": {},
   "outputs": [],
   "source": [
    "crop_health_df = univariate_count(eda_df, col = \"Crop_Damage\",\n",
    "                               final_cols = [\"Crop_Damage\", \"Frequency\"])\n",
    "\n",
    "crop_health_df.head()"
   ]
  },
  {
   "cell_type": "code",
   "execution_count": null,
   "id": "bfd04241",
   "metadata": {},
   "outputs": [],
   "source": [
    "create_piechart(df = crop_health_df, val_col = \"Frequency\", \n",
    "                label_col = \"Crop_Damage\",\n",
    "               colors = ['lightgray', 'lightgreen', 'lightblue'],\n",
    "                explode = (0.1, 0.1, 0.1),\n",
    "                title = \"Distribution Of Soil According to their Types\")"
   ]
  },
  {
   "cell_type": "markdown",
   "id": "21617acb",
   "metadata": {},
   "source": [
    "### Crop Type Distribution"
   ]
  },
  {
   "cell_type": "code",
   "execution_count": null,
   "id": "7166eba0",
   "metadata": {},
   "outputs": [],
   "source": [
    "crop_type_df = univariate_count(eda_df, col = \"Crop_Type\",\n",
    "                               final_cols = [\"Crop_Type\", \"Frequency\"])\n",
    "\n",
    "\n",
    "crop_type_df.head()"
   ]
  },
  {
   "cell_type": "code",
   "execution_count": null,
   "id": "074e6216",
   "metadata": {},
   "outputs": [],
   "source": [
    "create_piechart(df = crop_type_df, val_col = \"Frequency\", \n",
    "                label_col = \"Crop_Type\",\n",
    "                colors = ['lightgray', 'lightgreen'],\n",
    "                explode = (0.05, 0),\n",
    "                title = \"Distribution Of Crop According to their Types\")"
   ]
  },
  {
   "cell_type": "markdown",
   "id": "a53c58ac",
   "metadata": {},
   "source": [
    "<b><li>71.45% of crops belong to Type0_Crop.</li></b>\n",
    "<b><li>Remaining 28.55% of crops belong to Type1_Crop.</li></b>"
   ]
  },
  {
   "cell_type": "markdown",
   "id": "64272008",
   "metadata": {},
   "source": [
    "### Is Crop Heath determined by Crop Type?"
   ]
  },
  {
   "cell_type": "code",
   "execution_count": null,
   "id": "95403e5a",
   "metadata": {},
   "outputs": [],
   "source": [
    "crop_type_effect_df = bivariate_count(df = eda_df, \n",
    "                                      target_col = \"Crop_Damage\",\n",
    "                                      cause_col = \"Crop_Type\")\n",
    "crop_type_effect_df.head()"
   ]
  },
  {
   "cell_type": "code",
   "execution_count": null,
   "id": "cd1e0b21",
   "metadata": {},
   "outputs": [],
   "source": [
    "create_bivariate_bargraph(df = crop_type_effect_df, \n",
    "                          colors = ['red', 'blue'],\n",
    "                          legend_labels = ['CropType0', 'CropType1'],\n",
    "                          target_col = \"Crop_Damage\",\n",
    "                          graph_orientation = \"v\",\n",
    "                          bar_width = 800,\n",
    "                          bar_height = 600,\n",
    "                          legend_x = 0.839,\n",
    "                          legend_y = 0.999,\n",
    "                          fig_title = \"Effect Of Crop Type On Crop Health\", \n",
    "                          x_axis_title = \"Crop Health\",\n",
    "                          y_axis_title = \"Frequency\")"
   ]
  },
  {
   "cell_type": "markdown",
   "id": "1ef69aaf",
   "metadata": {},
   "source": [
    "<b><li>84.92% of type1 crop is alive.</li></b>\n",
    "<b><li>82.99% of type0 crop is alive.</li></b>\n",
    "\n",
    "<br>\n",
    "\n",
    "\n",
    "<b><li>12.27% of type1 crop is damaged due to other causes.</li></b>\n",
    "<b><li>14.47% of type0 crop is damaged due to other causes.</li></b>\n",
    "\n",
    "\n",
    "<br>\n",
    "\n",
    "<b><li>2.79% of type1 crop is damaged due to pesticides.</li></b>\n",
    "<b><li>2.52% of type0 crop is damaged due to pesticides.</li></b>"
   ]
  },
  {
   "cell_type": "markdown",
   "id": "1312755f",
   "metadata": {},
   "source": [
    "### Testing Of Hypothesis: (Crop Health & Crop Type)"
   ]
  },
  {
   "cell_type": "code",
   "execution_count": null,
   "id": "5f0d66f9",
   "metadata": {},
   "outputs": [],
   "source": [
    "chisquare_test(df = eda_df, cause_col = \"Crop_Type\", effect_col = \"Crop_Damage\")"
   ]
  },
  {
   "cell_type": "markdown",
   "id": "77c40386",
   "metadata": {},
   "source": [
    "<b><li>Since there is a relationship between crop health and crop type we can say that crop health is impacted by crop types.</li></b>"
   ]
  },
  {
   "cell_type": "markdown",
   "id": "23c087d0",
   "metadata": {},
   "source": [
    "## Soil Type"
   ]
  },
  {
   "cell_type": "code",
   "execution_count": null,
   "id": "1503264e",
   "metadata": {},
   "outputs": [],
   "source": [
    "soil_type_df = univariate_count(eda_df, col = \"Soil_Type\",\n",
    "                               final_cols = [\"Soil_Type\", \"Frequency\"])\n",
    "\n",
    "soil_type_df.head()"
   ]
  },
  {
   "cell_type": "code",
   "execution_count": null,
   "id": "ea77a3ae",
   "metadata": {},
   "outputs": [],
   "source": [
    "create_piechart(df = soil_type_df, val_col = \"Frequency\", \n",
    "                label_col = \"Soil_Type\",\n",
    "               colors = ['lightgray', 'lightgreen'],explode = (0.05, 0),\n",
    "                title = \"Distribution Of Soil According to their Types\")"
   ]
  },
  {
   "cell_type": "markdown",
   "id": "39c42b13",
   "metadata": {},
   "source": [
    "<b><li>54.29% of crops are grown in Type0 Soil.</li></b>\n",
    "<b><li>Remaining 45.71% of crops are grown in Type1 Soil.</li></b>"
   ]
  },
  {
   "cell_type": "markdown",
   "id": "80deb67a",
   "metadata": {},
   "source": [
    "### Does the type of soil impact the health of crops?"
   ]
  },
  {
   "cell_type": "code",
   "execution_count": null,
   "id": "a9fa3537",
   "metadata": {},
   "outputs": [],
   "source": [
    "soil_type_effect_df = bivariate_count(df = eda_df, \n",
    "                                      target_col = \"Crop_Damage\",\n",
    "                                      cause_col = \"Soil_Type\")\n",
    "soil_type_effect_df.head()"
   ]
  },
  {
   "cell_type": "code",
   "execution_count": null,
   "id": "14d56572",
   "metadata": {},
   "outputs": [],
   "source": [
    "create_bivariate_bargraph(df = soil_type_effect_df, \n",
    "                          colors = ['red', 'blue'],\n",
    "                          legend_labels = ['Soil_Type0', 'Soil_Type1'],\n",
    "                          target_col = \"Crop_Damage\",\n",
    "                          graph_orientation = \"v\",\n",
    "                          bar_width = 800,\n",
    "                          bar_height = 600,\n",
    "                          legend_x = 0.8,\n",
    "                          legend_y = 0.99,\n",
    "                          fig_title = \"Effect Of Soil Type On Crop Health\", \n",
    "                          x_axis_title = \"Crop Health\",\n",
    "                          y_axis_title = \"Frequency\")"
   ]
  },
  {
   "cell_type": "markdown",
   "id": "00fa29c1",
   "metadata": {},
   "source": [
    "<b><li>84.44% of type1 soil is alive.</li></b>\n",
    "<b><li>82.78% of type0 soil is alive.</li></b>\n",
    "\n",
    "<br>\n",
    "\n",
    "<b><li>13.14% of type1 soil is damaged due to other causes.</li></b>\n",
    "<b><li>14.44% of type0 soil is damaged due to other causes.</li></b>\n",
    "\n",
    "<br>\n",
    "\n",
    "<b><li>2.41% of type1 soil is damaged due to pesticides.</li></b>\n",
    "<b><li>2.76% of type0 soil is damaged due to pesticides.</li></b>"
   ]
  },
  {
   "cell_type": "markdown",
   "id": "284589f7",
   "metadata": {},
   "source": [
    "### Test Of Hypothesis (Soil Type & Crop Damage)"
   ]
  },
  {
   "cell_type": "code",
   "execution_count": null,
   "id": "51622857",
   "metadata": {},
   "outputs": [],
   "source": [
    "chisquare_test(df = eda_df, cause_col = \"Soil_Type\", effect_col = \"Crop_Damage\")"
   ]
  },
  {
   "cell_type": "markdown",
   "id": "aebc8134",
   "metadata": {},
   "source": [
    "<b><li>Since there is a relationship between crop health and soil type we can say that crop health is impacted by soil types.</li></b>\n",
    "\n",
    "<b><li>But when we see the impact of both crop types and soil types we can see the similar kinds of stats from bivariate analysis.</li></b>\n",
    "\n",
    "<b><li>So, testing whether the two independent variables soil_type and crop_type have relationship between them or not.</li></b>"
   ]
  },
  {
   "cell_type": "markdown",
   "id": "778067a5",
   "metadata": {},
   "source": [
    "### Test Of Hypothesis (Soil Type & Crop Type)"
   ]
  },
  {
   "cell_type": "code",
   "execution_count": null,
   "id": "ede03cb0",
   "metadata": {},
   "outputs": [],
   "source": [
    "chisquare_test(df = eda_df, cause_col = \"Soil_Type\", effect_col = \"Crop_Type\")"
   ]
  },
  {
   "cell_type": "markdown",
   "id": "5ff701df",
   "metadata": {},
   "source": [
    "<b><li>We can see there is a relationship between soil_type and crop_types.</li></b>\n",
    "<b><li>Since both are independent features so it will be difficult for the model to see how much impact each feature has on target.</li></b>\n",
    "<b><li>So, while model building we can select any one of these features leaving one feature out.</li></b>"
   ]
  },
  {
   "cell_type": "markdown",
   "id": "70e73899",
   "metadata": {},
   "source": [
    "### Pesticide_Use_Category Column"
   ]
  },
  {
   "cell_type": "code",
   "execution_count": null,
   "id": "97f594fa",
   "metadata": {},
   "outputs": [],
   "source": [
    "pesticide_use_df = univariate_count(eda_df, col = \"Pesticide_Use_Category\",\n",
    "                               final_cols = [\"Pesticide_Use_Category\", \"Frequency\"])\n",
    "pesticide_use_df.head()"
   ]
  },
  {
   "cell_type": "code",
   "execution_count": null,
   "id": "e04a5d4c",
   "metadata": {},
   "outputs": [],
   "source": [
    "univariate_barplot(pesticide_use_df, val_col = \"Frequency\", \n",
    "                  label_col = \"Pesticide_Use_Category\", colors = [\"red\", \"blue\", \"green\"],\n",
    "                  title = \"\", xlabel_title = \"\", ylabel_title = \"\")"
   ]
  },
  {
   "cell_type": "markdown",
   "id": "44da3139",
   "metadata": {},
   "source": [
    "<b><li>71.71% of crops have used the pesticides previously.</li></b>\n",
    "<b><li>27.33% of crops are currently using the pesticides.</li></b>\n",
    "<b><li>0.9% of crops are found not using the pesticides.</li></b>"
   ]
  },
  {
   "cell_type": "code",
   "execution_count": null,
   "id": "d40c2c49",
   "metadata": {},
   "outputs": [],
   "source": [
    "pesticide_use_effect_df = bivariate_count(df = eda_df, \n",
    "                                      target_col = \"Crop_Damage\",\n",
    "                                      cause_col = \"Pesticide_Use_Category\")\n",
    "pesticide_use_effect_df.head()"
   ]
  },
  {
   "cell_type": "code",
   "execution_count": null,
   "id": "dfed5120",
   "metadata": {},
   "outputs": [],
   "source": [
    "create_bivariate_bargraph(df = pesticide_use_effect_df, \n",
    "                          colors = ['red', 'blue', 'green'],\n",
    "                          legend_labels = ['Currently Using', 'Never Used', \n",
    "                                          'Previously Used'],\n",
    "                          target_col = \"Crop_Damage\",\n",
    "                          graph_orientation = \"v\",\n",
    "                          bar_width = 800,\n",
    "                          bar_height = 600,\n",
    "                          legend_x = 0.8,\n",
    "                          legend_y = 0.99,\n",
    "                          fig_title = \"Effect Of Pesticide Use On Crop Health\", \n",
    "                          x_axis_title = \"Crop Health\",\n",
    "                          y_axis_title = \"Frequency\")"
   ]
  },
  {
   "cell_type": "markdown",
   "id": "65bba1a4",
   "metadata": {},
   "source": [
    "<b><li>89.4% of crops which have used pesticides previously are alive.</li></b>\n",
    "<b><li>70.59% of crops which are currently using pesticides are alive.</li></b>\n",
    "<b><li>Only 14.09% of crops which have never used pesticides are alive.</li></b>\n",
    "\n",
    "<br>\n",
    "\n",
    "<b><li>9.5% of crops which have used pesticides prevously are damaged due to other causes.</li></b>\n",
    "<b><li>23.36% of crops which are currently using pesticides are damaged due to other causes.</li></b>\n",
    "<b><li>66.18% of crops which have never used pesticides are damaged due to other causes.</li></b>\n",
    "\n",
    "<br>\n",
    "\n",
    "<b><li>Only 10.65% of crops which have used pesticides previously are damaged due to pesticides.</li></b>\n",
    "<b><li>Only 6.04% of crops which are currenlty using pesticides are damaged due to pesticides.</li></b>\n",
    "<b><li>19.71% of crops which have never used pesticides are damaged due to pesticides.</li></b>\n"
   ]
  },
  {
   "cell_type": "markdown",
   "id": "0b37d1eb",
   "metadata": {},
   "source": [
    "<b><li>From this stats, we conclude that crops which had never used pesticides seems to get damaged due to other causes.</li></b>\n",
    "<b><li>Similarly, the crops which are currently using pesticides are damaged due to pesticides due to overuse.</li></b>\n",
    "<b><li>We can also see that crops which has never used pesticides are damaged due to pesticides. But How?.</li></b>"
   ]
  },
  {
   "cell_type": "markdown",
   "id": "62dadf15",
   "metadata": {},
   "source": [
    "### Hypothesis Testing (Pesticide_Use_Category and Crop_Damage)"
   ]
  },
  {
   "cell_type": "code",
   "execution_count": null,
   "id": "1a2489c3",
   "metadata": {},
   "outputs": [],
   "source": [
    "chisquare_test(df = eda_df, cause_col = \"Pesticide_Use_Category\", effect_col = \"Crop_Damage\")"
   ]
  },
  {
   "cell_type": "markdown",
   "id": "4ac5e0ee",
   "metadata": {},
   "source": [
    "### Season column"
   ]
  },
  {
   "cell_type": "code",
   "execution_count": null,
   "id": "7ea1dea4",
   "metadata": {},
   "outputs": [],
   "source": [
    "season_df = univariate_count(eda_df, col = \"Season\",\n",
    "                               final_cols = [\"Season\", \"Frequency\"])\n",
    "season_df.head()"
   ]
  },
  {
   "cell_type": "code",
   "execution_count": null,
   "id": "f81d9a11",
   "metadata": {},
   "outputs": [],
   "source": [
    "univariate_barplot(season_df, val_col = \"Frequency\", \n",
    "                  label_col = \"Season\", colors = [\"pink\", \"lightgreen\", \"lightblue\"],\n",
    "                  title = \"\", xlabel_title = \"\", ylabel_title = \"\")"
   ]
  },
  {
   "cell_type": "markdown",
   "id": "c566fe90",
   "metadata": {},
   "source": [
    "<b><li>49.75% of crops are grown in Season Two.</li></b>\n",
    "<b><li>30.19% of crops are grown in Season One.</li></b>\n",
    "<b><li>Only 20.05% of crops are grown in Season Three.</li></b>"
   ]
  },
  {
   "cell_type": "code",
   "execution_count": null,
   "id": "965c0f3b",
   "metadata": {},
   "outputs": [],
   "source": [
    "season_effect_df = bivariate_count(df = eda_df, \n",
    "                                      target_col = \"Crop_Damage\",\n",
    "                                      cause_col = \"Season\")\n",
    "season_effect_df.head()"
   ]
  },
  {
   "cell_type": "code",
   "execution_count": null,
   "id": "dc5a261d",
   "metadata": {},
   "outputs": [],
   "source": [
    "create_bivariate_bargraph(df = season_effect_df, \n",
    "                          colors = ['red', 'blue', 'green'],\n",
    "                          legend_labels = ['Season_1', 'Season_3', \n",
    "                                          'Season_2'],\n",
    "                          target_col = \"Crop_Damage\",\n",
    "                          graph_orientation = \"v\",\n",
    "                          bar_width = 800,\n",
    "                          bar_height = 600,\n",
    "                          legend_x = 0.8,\n",
    "                          legend_y = 0.99,\n",
    "                          fig_title = \"Effect Of Seasons On Crop Health\", \n",
    "                          x_axis_title = \"Crop Health\",\n",
    "                          y_axis_title = \"Frequency\")"
   ]
  },
  {
   "cell_type": "markdown",
   "id": "0ae43188",
   "metadata": {},
   "source": [
    "<b><li>83.61% of crops grown in season one are alive.</li></b>\n",
    "<b><li>83.75% of crops grown in season two are alive.</li></b>\n",
    "<b><li>83.42% of crops grown in season three are alive.</li></b>\n",
    "\n",
    "<br>\n",
    "\n",
    "<b><li>13.93% of crops grown in season one are damaged due to other causes.</li></b>\n",
    "<b><li>13.77% of crops grown in season two are damaged due to other causes.</li></b>\n",
    "<b><li>13.83% of crops grown in season three are damaged due to other causes.</li></b>\n",
    "\n",
    "<br> \n",
    "\n",
    "<b><li>2.45% of crops grown in season one are damaged due to pesticides.</li></b>\n",
    "<b><li>2.46% of crops grown in season two are damaged due to pesticides.</li></b>\n",
    "<b><li>2.75% of crops grown in season three are damaged due to pesticides.</li></b>\n",
    "\n",
    "<b><li>The percentage of crop being damaged due to pesticides or any other causes is equal for any of the seasons.</li></b>\n",
    "<b><li>Thus, we can say that season doesnot have any impact on the health of the crops.</li></b>\n",
    "<b><li>Let's test the hypothesis to check whether there is a relationship between Season and Crop_Damage.</li></b>"
   ]
  },
  {
   "cell_type": "code",
   "execution_count": null,
   "id": "ac357670",
   "metadata": {},
   "outputs": [],
   "source": [
    "chisquare_test(df = eda_df, cause_col = \"Season\", effect_col = \"Crop_Damage\")"
   ]
  },
  {
   "cell_type": "markdown",
   "id": "61fe2a7f",
   "metadata": {},
   "source": [
    "<b><li>Since there is no relationship between season and crop damage we can say that crop health is not impacted by seasonality or seasons.</li></b>"
   ]
  },
  {
   "cell_type": "markdown",
   "id": "93a5d7aa",
   "metadata": {},
   "source": [
    "### Estimated Insects Count"
   ]
  },
  {
   "cell_type": "code",
   "execution_count": null,
   "id": "a3b1e611",
   "metadata": {},
   "outputs": [],
   "source": [
    "eda_df.describe()"
   ]
  },
  {
   "cell_type": "code",
   "execution_count": null,
   "id": "69308dd3",
   "metadata": {},
   "outputs": [],
   "source": [
    "univariate_numeric_plot(df = eda_df, col_name = \"Estimated_Insects_Count\", color = \"red\")"
   ]
  },
  {
   "cell_type": "code",
   "execution_count": null,
   "id": "f144c68c",
   "metadata": {},
   "outputs": [],
   "source": [
    "bivariate_hist_kdeplot(df = eda_df, col_name = \"Estimated_Insects_Count\",\n",
    "                      target_col = \"Crop_Damage\", colors = ['red', 'green', 'blue', 'black'])"
   ]
  },
  {
   "cell_type": "markdown",
   "id": "361be5bf",
   "metadata": {},
   "source": [
    "### Test Of Hypothesis (Crop_Damage & Estimated_Insects_Count"
   ]
  },
  {
   "cell_type": "code",
   "execution_count": null,
   "id": "6acc8a5d",
   "metadata": {},
   "outputs": [],
   "source": [
    "fstatistic_test(df = eda_df, cause_col = \"Estimated_Insects_Count\",\n",
    "               effect_col = \"Crop_Damage\")"
   ]
  },
  {
   "cell_type": "markdown",
   "id": "bf36c18b",
   "metadata": {},
   "source": [
    "### Number_Doses_Week column"
   ]
  },
  {
   "cell_type": "code",
   "execution_count": null,
   "id": "1955ffb4",
   "metadata": {},
   "outputs": [],
   "source": [
    "univariate_numeric_plot(df = eda_df, col_name = \"Number_Doses_Week\", color = \"red\")"
   ]
  },
  {
   "cell_type": "code",
   "execution_count": null,
   "id": "02d06ab9",
   "metadata": {},
   "outputs": [],
   "source": [
    "bivariate_hist_kdeplot(eda_df, col_name = \"Number_Doses_Week\",\n",
    "                  target_col = 'Crop_Damage', colors = ['red', 'green', 'blue', 'black'])"
   ]
  },
  {
   "cell_type": "markdown",
   "id": "c3c414a4",
   "metadata": {},
   "source": [
    "### Hypothesis Testing (Number_Doses_Week & Crop_Damage)"
   ]
  },
  {
   "cell_type": "code",
   "execution_count": null,
   "id": "742c87b6",
   "metadata": {},
   "outputs": [],
   "source": [
    "fstatistic_test(df = eda_df, cause_col = \"Number_Doses_Week\",\n",
    "               effect_col = \"Crop_Damage\")"
   ]
  },
  {
   "cell_type": "markdown",
   "id": "9a307e83",
   "metadata": {},
   "source": [
    "### Number_of_weeks_used"
   ]
  },
  {
   "cell_type": "code",
   "execution_count": null,
   "id": "b36f8eb7",
   "metadata": {},
   "outputs": [],
   "source": [
    "univariate_numeric_plot(df = eda_df, col_name = \"Number_Weeks_Used\", color = \"red\")"
   ]
  },
  {
   "cell_type": "code",
   "execution_count": null,
   "id": "d85b8003",
   "metadata": {},
   "outputs": [],
   "source": [
    "eda_df.loc[eda_df['Number_Weeks_Used']>56 , 'Crop_Damage'].value_counts()"
   ]
  },
  {
   "cell_type": "code",
   "execution_count": null,
   "id": "c563802b",
   "metadata": {},
   "outputs": [],
   "source": [
    "bivariate_hist_kdeplot(eda_df, col_name = \"Number_Weeks_Used\",\n",
    "                  target_col = 'Crop_Damage', colors = ['red', 'green', 'blue', 'black'])"
   ]
  },
  {
   "cell_type": "code",
   "execution_count": null,
   "id": "d7ae3e3b",
   "metadata": {},
   "outputs": [],
   "source": [
    "fstatistic_test(df = eda_df.dropna(), cause_col = \"Number_Weeks_Used\",\n",
    "               effect_col = \"Crop_Damage\")"
   ]
  },
  {
   "cell_type": "markdown",
   "id": "dcc1e088",
   "metadata": {},
   "source": [
    "### Number_Weeks_Quit"
   ]
  },
  {
   "cell_type": "code",
   "execution_count": null,
   "id": "eba0f40e",
   "metadata": {},
   "outputs": [],
   "source": [
    "univariate_numeric_plot(df = eda_df, col_name = \"Number_Weeks_Quit\", color = \"red\")"
   ]
  },
  {
   "cell_type": "code",
   "execution_count": null,
   "id": "bc0c5062",
   "metadata": {},
   "outputs": [],
   "source": [
    "bivariate_hist_kdeplot(eda_df, col_name = \"Number_Weeks_Quit\",\n",
    "                  target_col = 'Crop_Damage', colors = ['red', 'green', 'blue', 'black'])"
   ]
  },
  {
   "cell_type": "code",
   "execution_count": null,
   "id": "083c186c",
   "metadata": {},
   "outputs": [],
   "source": [
    "fstatistic_test(df = eda_df.dropna(), cause_col = \"Number_Weeks_Quit\",\n",
    "               effect_col = \"Crop_Damage\")"
   ]
  },
  {
   "cell_type": "code",
   "execution_count": null,
   "id": "21229c85",
   "metadata": {},
   "outputs": [],
   "source": [
    "sns.heatmap(eda_df.corr(), annot = True)"
   ]
  },
  {
   "cell_type": "code",
   "execution_count": null,
   "id": "3b36f9a9",
   "metadata": {},
   "outputs": [],
   "source": [
    "sns.scatterplot(data  = eda_df, x = 'Estimated_Insects_Count', y = 'Number_Doses_Week',\n",
    "               hue = \"Crop_Damage\", palette = ['red', 'blue', 'green'])\n",
    "plt.legend(loc = \"upper right\", bbox_to_anchor = (1.6, 1))\n",
    "plt.show()"
   ]
  },
  {
   "cell_type": "code",
   "execution_count": null,
   "id": "5db63605",
   "metadata": {},
   "outputs": [],
   "source": [
    "sns.pairplot(eda_df, hue = \"Crop_Damage\")"
   ]
  },
  {
   "cell_type": "markdown",
   "id": "2f847735",
   "metadata": {},
   "source": [
    "### Modelling"
   ]
  },
  {
   "cell_type": "code",
   "execution_count": null,
   "id": "fec7789d",
   "metadata": {},
   "outputs": [],
   "source": [
    "unnecessary_cols = [\"ID\", \"Crop_Type\", \"Season\"]\n",
    "final_df = eda_df.drop(unnecessary_cols, axis = 1)\n",
    "final_df.shape"
   ]
  },
  {
   "cell_type": "code",
   "execution_count": null,
   "id": "d1ec40b6",
   "metadata": {},
   "outputs": [],
   "source": [
    "final_df.head()"
   ]
  },
  {
   "cell_type": "code",
   "execution_count": null,
   "id": "5c8f9375",
   "metadata": {},
   "outputs": [],
   "source": [
    "final_df.loc[(final_df['Pesticide_Use_Category'] == 'Never Used'),\n",
    "            ]"
   ]
  },
  {
   "cell_type": "code",
   "execution_count": null,
   "id": "8585166a",
   "metadata": {},
   "outputs": [],
   "source": []
  },
  {
   "cell_type": "code",
   "execution_count": null,
   "id": "68872997",
   "metadata": {},
   "outputs": [],
   "source": []
  },
  {
   "cell_type": "code",
   "execution_count": null,
   "id": "5f42add3",
   "metadata": {},
   "outputs": [],
   "source": []
  },
  {
   "cell_type": "markdown",
   "id": "2558170d",
   "metadata": {},
   "source": [
    "#### Fill in missing values using mean"
   ]
  },
  {
   "cell_type": "code",
   "execution_count": 67,
   "id": "d8af216f",
   "metadata": {},
   "outputs": [
    {
     "data": {
      "text/plain": [
       "Estimated_Insects_Count        0\n",
       "Soil_Type                      0\n",
       "Pesticide_Use_Category         0\n",
       "Number_Doses_Week              0\n",
       "Number_Weeks_Used          14893\n",
       "Number_Weeks_Quit              0\n",
       "Crop_Damage                59310\n",
       "dtype: int64"
      ]
     },
     "execution_count": 67,
     "metadata": {},
     "output_type": "execute_result"
    }
   ],
   "source": [
    "final_df.isnull().sum()"
   ]
  },
  {
   "cell_type": "code",
   "execution_count": null,
   "id": "cd3045a7",
   "metadata": {},
   "outputs": [],
   "source": [
    "mean_fill = final_df['Number_Weeks_Used'].mean()"
   ]
  },
  {
   "cell_type": "code",
   "execution_count": null,
   "id": "6b6806e6",
   "metadata": {},
   "outputs": [],
   "source": [
    "final_df['Number_Weeks_Used'] = final_df['Number_Weeks_Used'].fillna(mean_fill)"
   ]
  },
  {
   "cell_type": "code",
   "execution_count": null,
   "id": "69688369",
   "metadata": {},
   "outputs": [],
   "source": [
    "final_df.isnull().sum()"
   ]
  },
  {
   "cell_type": "markdown",
   "id": "a7f3c19f",
   "metadata": {},
   "source": [
    "### Encoding Soil Type as binary output"
   ]
  },
  {
   "cell_type": "code",
   "execution_count": null,
   "id": "cf0f9594",
   "metadata": {},
   "outputs": [],
   "source": [
    "final_df.replace({\"Soil_Type_0\": 0, \"Soil_Type_1\":1}, inplace = True)"
   ]
  },
  {
   "cell_type": "code",
   "execution_count": null,
   "id": "28d018e5",
   "metadata": {},
   "outputs": [],
   "source": [
    "final_df.head()"
   ]
  },
  {
   "cell_type": "code",
   "execution_count": null,
   "id": "ffd03aab",
   "metadata": {},
   "outputs": [],
   "source": [
    "pesticide_use_df = pd.get_dummies(final_df['Pesticide_Use_Category'])\n",
    "pesticide_use_df.head()"
   ]
  },
  {
   "cell_type": "code",
   "execution_count": null,
   "id": "7aa3fcff",
   "metadata": {},
   "outputs": [],
   "source": [
    "final_df = pd.concat([final_df, pesticide_use_df], axis = 1)\n",
    "final_df.shape"
   ]
  },
  {
   "cell_type": "code",
   "execution_count": null,
   "id": "0dc84ba8",
   "metadata": {},
   "outputs": [],
   "source": [
    "dummy_cols = ['Pesticide_Use_Category', 'Never Used']\n",
    "final_df = final_df.drop(dummy_cols, axis = 1)\n",
    "print(final_df.shape)"
   ]
  },
  {
   "cell_type": "code",
   "execution_count": null,
   "id": "e485eca0",
   "metadata": {},
   "outputs": [],
   "source": [
    "final_df.head()"
   ]
  },
  {
   "cell_type": "markdown",
   "id": "8a641446",
   "metadata": {},
   "source": [
    "### Dataset Splitting(Train, Val, Test)"
   ]
  },
  {
   "cell_type": "code",
   "execution_count": null,
   "id": "d442000f",
   "metadata": {},
   "outputs": [],
   "source": [
    "train_df = final_df[~final_df['Crop_Damage'].isnull()]\n",
    "test_df = final_df[final_df['Crop_Damage'].isnull()]\n",
    "print(\"Shape of training dataset is {}\".format(train_df.shape))\n",
    "print(\"Shape of testing dataset is {}\".format(test_df.shape))"
   ]
  },
  {
   "cell_type": "code",
   "execution_count": null,
   "id": "c8d6b503",
   "metadata": {},
   "outputs": [],
   "source": [
    "data = train_df.drop('Crop_Damage', axis =1)\n",
    "labels = train_df['Crop_Damage']"
   ]
  },
  {
   "cell_type": "code",
   "execution_count": null,
   "id": "0d35fff1",
   "metadata": {},
   "outputs": [],
   "source": [
    "from sklearn.model_selection import train_test_split"
   ]
  },
  {
   "cell_type": "code",
   "execution_count": null,
   "id": "b80d123b",
   "metadata": {},
   "outputs": [],
   "source": [
    "x_train, x_val, y_train, y_val = train_test_split(data, labels, test_size = 0.2, random_state = 42)\n",
    "x_test = test_df.drop('Crop_Damage', axis = 1)"
   ]
  },
  {
   "cell_type": "code",
   "execution_count": null,
   "id": "b91dfb3e",
   "metadata": {},
   "outputs": [],
   "source": [
    "print(\"X_train Shape: {}\".format(x_train.shape))\n",
    "print(\"X_val Shape: {}\".format(x_val.shape))\n",
    "print(\"X_test Shape: {}\".format(x_test.shape))\n",
    "\n",
    "print(\"y_train Shape: {}\".format(y_train.shape))\n",
    "print(\"y_val Shape: {}\".format(y_val.shape))\n"
   ]
  },
  {
   "cell_type": "code",
   "execution_count": null,
   "id": "3e5cb6aa",
   "metadata": {},
   "outputs": [],
   "source": [
    "from sklearn.linear_model import LogisticRegression"
   ]
  },
  {
   "cell_type": "code",
   "execution_count": null,
   "id": "cf8f8153",
   "metadata": {},
   "outputs": [],
   "source": [
    "classifier = LogisticRegression()"
   ]
  },
  {
   "cell_type": "code",
   "execution_count": null,
   "id": "670b6208",
   "metadata": {},
   "outputs": [],
   "source": [
    "classifier.fit(x_train, y_train)"
   ]
  },
  {
   "cell_type": "code",
   "execution_count": null,
   "id": "db5d58a1",
   "metadata": {},
   "outputs": [],
   "source": [
    "y_pred = classifier.predict(x_val)"
   ]
  },
  {
   "cell_type": "code",
   "execution_count": null,
   "id": "bce1d965",
   "metadata": {},
   "outputs": [],
   "source": [
    "print(y_pred)"
   ]
  },
  {
   "cell_type": "code",
   "execution_count": null,
   "id": "4a6f0604",
   "metadata": {},
   "outputs": [],
   "source": [
    "from sklearn.metrics import confusion_matrix, accuracy_score, precision_score, f1_score, recall_score"
   ]
  },
  {
   "cell_type": "code",
   "execution_count": null,
   "id": "aaec99da",
   "metadata": {},
   "outputs": [],
   "source": [
    "confusion_matrix(y_val, y_pred)"
   ]
  },
  {
   "cell_type": "code",
   "execution_count": null,
   "id": "506efba1",
   "metadata": {},
   "outputs": [],
   "source": []
  }
 ],
 "metadata": {
  "kernelspec": {
   "display_name": "Python 3 (ipykernel)",
   "language": "python",
   "name": "python3"
  },
  "language_info": {
   "codemirror_mode": {
    "name": "ipython",
    "version": 3
   },
   "file_extension": ".py",
   "mimetype": "text/x-python",
   "name": "python",
   "nbconvert_exporter": "python",
   "pygments_lexer": "ipython3",
   "version": "3.9.13"
  }
 },
 "nbformat": 4,
 "nbformat_minor": 5
}
